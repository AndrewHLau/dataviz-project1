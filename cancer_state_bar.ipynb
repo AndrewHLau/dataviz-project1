{
 "cells": [
  {
   "cell_type": "code",
   "execution_count": 1,
   "metadata": {},
   "outputs": [],
   "source": [
    "# Dependencies and Setup\n",
    "%matplotlib inline\n",
    "import matplotlib.pyplot as plt\n",
    "import pandas as pd\n",
    "import numpy as np\n",
    "import os"
   ]
  },
  {
   "cell_type": "code",
   "execution_count": 2,
   "metadata": {},
   "outputs": [],
   "source": [
    "# Convert data to dataframes\n",
    "lung_df1 = pd.read_csv(os.path.join(\"Resources\", \"CDC_Cancer1.csv\"))\n",
    "lung_df2 = pd.read_csv(os.path.join(\"Resources\", \"CDC_Cancer2.csv\"))\n",
    "county_df = pd.read_csv(os.path.join(\"Resources\", \"CDC_Cancer_by_County.csv\"))\n",
    "\n",
    "# Combine lung dataframes into single dataframe\n",
    "lung_df = lung_df1.append(lung_df2, ignore_index=True)\n",
    "\n",
    "# Delete unnecessary columns\n",
    "lung_df = lung_df.drop([\"Notes\", \"State Code\", \"Year Code\", \"Sex Code\", \"Race Code\", \"Age Group Code\"], axis=1)\n",
    "county_df = county_df.drop([\"Notes\", \"County Code\", \"Year Code\"], axis =1)"
   ]
  },
  {
   "cell_type": "code",
   "execution_count": 3,
   "metadata": {},
   "outputs": [
    {
     "data": {
      "text/plain": [
       "County        81\n",
       "Year          81\n",
       "Deaths        81\n",
       "Population    81\n",
       "Crude Rate    81\n",
       "dtype: int64"
      ]
     },
     "execution_count": 3,
     "metadata": {},
     "output_type": "execute_result"
    }
   ],
   "source": [
    "# Check to see if there are any null values in dataframe\n",
    "lung_df.isnull().sum()\n",
    "county_df.isnull().sum()"
   ]
  },
  {
   "cell_type": "code",
   "execution_count": 4,
   "metadata": {},
   "outputs": [
    {
     "data": {
      "text/plain": [
       "County        0\n",
       "Year          0\n",
       "Deaths        0\n",
       "Population    0\n",
       "Crude Rate    0\n",
       "dtype: int64"
      ]
     },
     "execution_count": 4,
     "metadata": {},
     "output_type": "execute_result"
    }
   ],
   "source": [
    "# Drop rows that have nothing but null values\n",
    "lung_df = lung_df.dropna(how=\"all\")\n",
    "county_df = county_df.dropna(how=\"all\")\n",
    "# Verify there are no null values left\n",
    "lung_df.isnull().sum()\n",
    "county_df.isnull().sum()"
   ]
  },
  {
   "cell_type": "code",
   "execution_count": 5,
   "metadata": {},
   "outputs": [
    {
     "data": {
      "text/html": [
       "<div>\n",
       "<style scoped>\n",
       "    .dataframe tbody tr th:only-of-type {\n",
       "        vertical-align: middle;\n",
       "    }\n",
       "\n",
       "    .dataframe tbody tr th {\n",
       "        vertical-align: top;\n",
       "    }\n",
       "\n",
       "    .dataframe thead th {\n",
       "        text-align: right;\n",
       "    }\n",
       "</style>\n",
       "<table border=\"1\" class=\"dataframe\">\n",
       "  <thead>\n",
       "    <tr style=\"text-align: right;\">\n",
       "      <th></th>\n",
       "      <th>County</th>\n",
       "      <th>Year</th>\n",
       "      <th>Deaths</th>\n",
       "      <th>Population</th>\n",
       "      <th>Crude Rate</th>\n",
       "    </tr>\n",
       "  </thead>\n",
       "  <tbody>\n",
       "    <tr>\n",
       "      <th>3</th>\n",
       "      <td>Abbeville County, SC</td>\n",
       "      <td>2014.0</td>\n",
       "      <td>24</td>\n",
       "      <td>24965</td>\n",
       "      <td>96.1</td>\n",
       "    </tr>\n",
       "    <tr>\n",
       "      <th>4</th>\n",
       "      <td>Abbeville County, SC</td>\n",
       "      <td>2013.0</td>\n",
       "      <td>23</td>\n",
       "      <td>25007</td>\n",
       "      <td>92</td>\n",
       "    </tr>\n",
       "    <tr>\n",
       "      <th>5</th>\n",
       "      <td>Abbeville County, SC</td>\n",
       "      <td>2016.0</td>\n",
       "      <td>22</td>\n",
       "      <td>24872</td>\n",
       "      <td>88.5</td>\n",
       "    </tr>\n",
       "    <tr>\n",
       "      <th>6</th>\n",
       "      <td>Acadia Parish, LA</td>\n",
       "      <td>2015.0</td>\n",
       "      <td>52</td>\n",
       "      <td>62577</td>\n",
       "      <td>83.1</td>\n",
       "    </tr>\n",
       "    <tr>\n",
       "      <th>7</th>\n",
       "      <td>Acadia Parish, LA</td>\n",
       "      <td>2013.0</td>\n",
       "      <td>51</td>\n",
       "      <td>62204</td>\n",
       "      <td>82</td>\n",
       "    </tr>\n",
       "  </tbody>\n",
       "</table>\n",
       "</div>"
      ],
      "text/plain": [
       "                 County    Year Deaths Population Crude Rate\n",
       "3  Abbeville County, SC  2014.0     24      24965       96.1\n",
       "4  Abbeville County, SC  2013.0     23      25007         92\n",
       "5  Abbeville County, SC  2016.0     22      24872       88.5\n",
       "6     Acadia Parish, LA  2015.0     52      62577       83.1\n",
       "7     Acadia Parish, LA  2013.0     51      62204         82"
      ]
     },
     "execution_count": 5,
     "metadata": {},
     "output_type": "execute_result"
    }
   ],
   "source": [
    "# For county dataframe, remove unreliable rows and verify no more junk rows\n",
    "county_df = county_df[county_df[\"Crude Rate\"] != \"Unreliable\"]\n",
    "county_df = county_df[county_df[\"Deaths\"] != \"Missing\"]\n",
    "county_df.head()"
   ]
  },
  {
   "cell_type": "code",
   "execution_count": 6,
   "metadata": {},
   "outputs": [
    {
     "data": {
      "text/html": [
       "<div>\n",
       "<style scoped>\n",
       "    .dataframe tbody tr th:only-of-type {\n",
       "        vertical-align: middle;\n",
       "    }\n",
       "\n",
       "    .dataframe tbody tr th {\n",
       "        vertical-align: top;\n",
       "    }\n",
       "\n",
       "    .dataframe thead th {\n",
       "        text-align: right;\n",
       "    }\n",
       "</style>\n",
       "<table border=\"1\" class=\"dataframe\">\n",
       "  <thead>\n",
       "    <tr style=\"text-align: right;\">\n",
       "      <th></th>\n",
       "      <th>State</th>\n",
       "      <th>Year</th>\n",
       "      <th>Sex</th>\n",
       "      <th>Race</th>\n",
       "      <th>Age Group</th>\n",
       "      <th>Deaths</th>\n",
       "      <th>Population</th>\n",
       "      <th>Crude Rate</th>\n",
       "    </tr>\n",
       "  </thead>\n",
       "  <tbody>\n",
       "    <tr>\n",
       "      <th>0</th>\n",
       "      <td>Alabama</td>\n",
       "      <td>2006</td>\n",
       "      <td>Female</td>\n",
       "      <td>American Indian or Alaska Native</td>\n",
       "      <td>&lt; 1 year</td>\n",
       "      <td>0</td>\n",
       "      <td>131</td>\n",
       "      <td>0.0</td>\n",
       "    </tr>\n",
       "    <tr>\n",
       "      <th>1</th>\n",
       "      <td>Alabama</td>\n",
       "      <td>2006</td>\n",
       "      <td>Female</td>\n",
       "      <td>American Indian or Alaska Native</td>\n",
       "      <td>1-4 years</td>\n",
       "      <td>0</td>\n",
       "      <td>788</td>\n",
       "      <td>0.0</td>\n",
       "    </tr>\n",
       "    <tr>\n",
       "      <th>2</th>\n",
       "      <td>Alabama</td>\n",
       "      <td>2006</td>\n",
       "      <td>Female</td>\n",
       "      <td>American Indian or Alaska Native</td>\n",
       "      <td>5-9 years</td>\n",
       "      <td>0</td>\n",
       "      <td>1093</td>\n",
       "      <td>0.0</td>\n",
       "    </tr>\n",
       "    <tr>\n",
       "      <th>3</th>\n",
       "      <td>Alabama</td>\n",
       "      <td>2006</td>\n",
       "      <td>Female</td>\n",
       "      <td>American Indian or Alaska Native</td>\n",
       "      <td>10-14 years</td>\n",
       "      <td>0</td>\n",
       "      <td>1237</td>\n",
       "      <td>0.0</td>\n",
       "    </tr>\n",
       "    <tr>\n",
       "      <th>4</th>\n",
       "      <td>Alabama</td>\n",
       "      <td>2006</td>\n",
       "      <td>Female</td>\n",
       "      <td>American Indian or Alaska Native</td>\n",
       "      <td>15-19 years</td>\n",
       "      <td>0</td>\n",
       "      <td>1305</td>\n",
       "      <td>0.0</td>\n",
       "    </tr>\n",
       "  </tbody>\n",
       "</table>\n",
       "</div>"
      ],
      "text/plain": [
       "     State  Year     Sex                              Race    Age Group  \\\n",
       "0  Alabama  2006  Female  American Indian or Alaska Native     < 1 year   \n",
       "1  Alabama  2006  Female  American Indian or Alaska Native    1-4 years   \n",
       "2  Alabama  2006  Female  American Indian or Alaska Native    5-9 years   \n",
       "3  Alabama  2006  Female  American Indian or Alaska Native  10-14 years   \n",
       "4  Alabama  2006  Female  American Indian or Alaska Native  15-19 years   \n",
       "\n",
       "   Deaths  Population  Crude Rate  \n",
       "0       0         131         0.0  \n",
       "1       0         788         0.0  \n",
       "2       0        1093         0.0  \n",
       "3       0        1237         0.0  \n",
       "4       0        1305         0.0  "
      ]
     },
     "execution_count": 6,
     "metadata": {},
     "output_type": "execute_result"
    }
   ],
   "source": [
    "# Cast \"Year\", \"Deaths\", and \"Population\" columns as integers; Crude Rate as float\n",
    "lung_df[\"Year\"] = lung_df[\"Year\"].astype(int)\n",
    "lung_df[\"Deaths\"] = lung_df[\"Deaths\"].astype(int)\n",
    "lung_df[\"Population\"] = lung_df[\"Population\"].astype(int)\n",
    "lung_df.head()\n",
    "\n",
    "county_df[\"Year\"] = county_df[\"Year\"].astype(int)\n",
    "county_df[\"Deaths\"] = county_df[\"Deaths\"].astype(int)\n",
    "county_df[\"Population\"] = county_df[\"Population\"].astype(int)\n",
    "county_df[\"Crude Rate\"] = county_df[\"Crude Rate\"].astype(float)\n",
    "lung_df.head()"
   ]
  },
  {
   "cell_type": "code",
   "execution_count": 7,
   "metadata": {},
   "outputs": [
    {
     "name": "stderr",
     "output_type": "stream",
     "text": [
      "C:\\Users\\onmik\\Anaconda3\\envs\\PythonData\\lib\\site-packages\\ipykernel_launcher.py:7: FutureWarning: The signature of `Series.to_csv` was aligned to that of `DataFrame.to_csv`, and argument 'header' will change its default value from False to True: please pass an explicit value to suppress this warning.\n",
      "  import sys\n"
     ]
    }
   ],
   "source": [
    "# Create series of crude rate of mortality by lung cancer in 2015 by state\n",
    "\n",
    "states_lung=lung_df[lung_df.Year ==2015].groupby([\"State\"]).agg({\"Deaths\":\"sum\"})\n",
    "pop_lung=lung_df[lung_df.Year ==2015].groupby([\"State\"]).agg({\"Population\":\"sum\"})\n",
    "states_crude = states_lung[\"Deaths\"]*100000/pop_lung[\"Population\"]\n",
    "\n",
    "states_crude.to_csv(os.path.join('Output','stateCrudeRates.csv'))\n"
   ]
  },
  {
   "cell_type": "code",
   "execution_count": 8,
   "metadata": {},
   "outputs": [
    {
     "data": {
      "image/png": "[encoded data removed]",
      "text/plain": [
       "<Figure size 1440x216 with 1 Axes>"
      ]
     },
     "metadata": {
      "needs_background": "light"
     },
     "output_type": "display_data"
    },
    {
     "data": {
      "text/plain": [
       "<Figure size 432x288 with 0 Axes>"
      ]
     },
     "metadata": {},
     "output_type": "display_data"
    }
   ],
   "source": [
    "#set x axis and tick locations\n",
    "barlabels = states_crude.index.tolist()\n",
    "x_axis = np.arange(len(barlabels))\n",
    "tick_locations = [value for value in x_axis]\n",
    "\n",
    "#plot\n",
    "states_crude.plot(kind=\"bar\", figsize=(20,3))\n",
    "\n",
    "#set x and y limits\n",
    "plt.xlim(-0.75, len(x_axis))\n",
    "\n",
    "plt.title(\"Lung Cancer Mortality across the U.S. within 2015\")\n",
    "plt.xlabel(\"States\")\n",
    "plt.show(\"Total of Lung Cancer Deaths\")\n",
    "plt.tight_layout()\n",
    "plt.show()"
   ]
  },
  {
   "cell_type": "code",
   "execution_count": null,
   "metadata": {},
   "outputs": [],
   "source": []
  }
 ],
 "metadata": {
  "kernelspec": {
   "display_name": "Python 3",
   "language": "python",
   "name": "python3"
  },
  "language_info": {
   "codemirror_mode": {
    "name": "ipython",
    "version": 3
   },
   "file_extension": ".py",
   "mimetype": "text/x-python",
   "name": "python",
   "nbconvert_exporter": "python",
   "pygments_lexer": "ipython3",
   "version": "3.7.2"
  }
 },
 "nbformat": 4,
 "nbformat_minor": 2
}
