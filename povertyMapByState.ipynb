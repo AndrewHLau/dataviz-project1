{
 "cells": [
  {
   "cell_type": "code",
   "execution_count": 1,
   "metadata": {},
   "outputs": [],
   "source": [
    "# import dependencies \n",
    "import os\n",
    "import gmaps\n",
    "import pandas as pd\n",
    "\n",
    "# import Google spi key from Config file\n",
    "from config import gkey\n",
    "\n",
    "# configure API key\n",
    "gmaps.configure(api_key=gkey)"
   ]
  },
  {
   "cell_type": "code",
   "execution_count": 2,
   "metadata": {},
   "outputs": [
    {
     "data": {
      "text/html": [
       "<div>\n",
       "<style scoped>\n",
       "    .dataframe tbody tr th:only-of-type {\n",
       "        vertical-align: middle;\n",
       "    }\n",
       "\n",
       "    .dataframe tbody tr th {\n",
       "        vertical-align: top;\n",
       "    }\n",
       "\n",
       "    .dataframe thead th {\n",
       "        text-align: right;\n",
       "    }\n",
       "</style>\n",
       "<table border=\"1\" class=\"dataframe\">\n",
       "  <thead>\n",
       "    <tr style=\"text-align: right;\">\n",
       "      <th></th>\n",
       "      <th>State</th>\n",
       "      <th>Latitude</th>\n",
       "      <th>Longitude</th>\n",
       "      <th>2012</th>\n",
       "      <th>2013</th>\n",
       "      <th>2014</th>\n",
       "      <th>2015</th>\n",
       "      <th>2016</th>\n",
       "      <th>2017</th>\n",
       "    </tr>\n",
       "  </thead>\n",
       "  <tbody>\n",
       "    <tr>\n",
       "      <th>0</th>\n",
       "      <td>Alabama</td>\n",
       "      <td>32.7794</td>\n",
       "      <td>-86.8287</td>\n",
       "      <td>19.8</td>\n",
       "      <td>20.90</td>\n",
       "      <td>20.5</td>\n",
       "      <td>20.2</td>\n",
       "      <td>20.30</td>\n",
       "      <td>19.30</td>\n",
       "    </tr>\n",
       "    <tr>\n",
       "      <th>1</th>\n",
       "      <td>Alaska</td>\n",
       "      <td>64.0685</td>\n",
       "      <td>-152.2782</td>\n",
       "      <td>10.5</td>\n",
       "      <td>10.25</td>\n",
       "      <td>10.2</td>\n",
       "      <td>11.1</td>\n",
       "      <td>10.35</td>\n",
       "      <td>10.40</td>\n",
       "    </tr>\n",
       "    <tr>\n",
       "      <th>2</th>\n",
       "      <td>Arizona</td>\n",
       "      <td>34.2744</td>\n",
       "      <td>-111.6602</td>\n",
       "      <td>20.2</td>\n",
       "      <td>19.40</td>\n",
       "      <td>19.9</td>\n",
       "      <td>19.8</td>\n",
       "      <td>20.50</td>\n",
       "      <td>19.70</td>\n",
       "    </tr>\n",
       "    <tr>\n",
       "      <th>3</th>\n",
       "      <td>Arkansas</td>\n",
       "      <td>34.8938</td>\n",
       "      <td>-92.4426</td>\n",
       "      <td>20.4</td>\n",
       "      <td>21.50</td>\n",
       "      <td>21.1</td>\n",
       "      <td>21.0</td>\n",
       "      <td>20.60</td>\n",
       "      <td>19.80</td>\n",
       "    </tr>\n",
       "    <tr>\n",
       "      <th>4</th>\n",
       "      <td>California</td>\n",
       "      <td>37.1841</td>\n",
       "      <td>-119.4696</td>\n",
       "      <td>15.5</td>\n",
       "      <td>16.65</td>\n",
       "      <td>16.7</td>\n",
       "      <td>16.6</td>\n",
       "      <td>16.25</td>\n",
       "      <td>15.25</td>\n",
       "    </tr>\n",
       "  </tbody>\n",
       "</table>\n",
       "</div>"
      ],
      "text/plain": [
       "        State  Latitude  Longitude  2012   2013  2014  2015   2016   2017\n",
       "0     Alabama   32.7794   -86.8287  19.8  20.90  20.5  20.2  20.30  19.30\n",
       "1      Alaska   64.0685  -152.2782  10.5  10.25  10.2  11.1  10.35  10.40\n",
       "2     Arizona   34.2744  -111.6602  20.2  19.40  19.9  19.8  20.50  19.70\n",
       "3    Arkansas   34.8938   -92.4426  20.4  21.50  21.1  21.0  20.60  19.80\n",
       "4  California   37.1841  -119.4696  15.5  16.65  16.7  16.6  16.25  15.25"
      ]
     },
     "execution_count": 2,
     "metadata": {},
     "output_type": "execute_result"
    }
   ],
   "source": [
    "# create state with centroid DataFrame\n",
    "povertyCSV = (os.path.join('povertyRateWithCentroids.csv'))\n",
    "povertyDF = pd.read_csv(povertyCSV)\n",
    "# remove index column that imported with CSV\n",
    "del povertyDF['Unnamed: 0']\n",
    "# preview poverty DataFrame\n",
    "povertyDF.head()\n"
   ]
  },
  {
   "cell_type": "code",
   "execution_count": 3,
   "metadata": {},
   "outputs": [],
   "source": [
    "# store latitude and longitude values for state centroids\n",
    "stateCentroid = povertyDF[['Latitude', 'Longitude']]\n",
    "\n",
    "# store poverty %s for each state\n",
    "povertyPercent2012 = povertyDF['2012'].astype(float)\n",
    "povertyPercent2013 = povertyDF['2013'].astype(float)\n",
    "povertyPercent2014 = povertyDF['2014'].astype(float)\n",
    "povertyPercent2015 = povertyDF['2015'].astype(float)\n",
    "povertyPercent2016 = povertyDF['2016'].astype(float)\n",
    "povertyPercent2017 = povertyDF['2017'].astype(float)"
   ]
  },
  {
   "cell_type": "code",
   "execution_count": 4,
   "metadata": {
    "scrolled": true
   },
   "outputs": [
    {
     "data": {
      "application/vnd.jupyter.widget-view+json": {
       "model_id": "d19bb4afce2e4a45ada682373313e6f9",
       "version_major": 2,
       "version_minor": 0
      },
      "text/plain": [
       "Figure(layout=FigureLayout(height='420px'))"
      ]
     },
     "metadata": {},
     "output_type": "display_data"
    }
   ],
   "source": [
    "# set up market locations\n",
    "markerLocations = povertyDF[['Latitude', 'Longitude']]\n",
    "# Plot Heatmap\n",
    "fig2012 = gmaps.figure()\n",
    "\n",
    "# Create heat layer\n",
    "heat_layer = gmaps.heatmap_layer(stateCentroid, weights=povertyPercent2012 / 2, \n",
    "                                 dissipating=False, max_intensity=8,\n",
    "                                 point_radius=2)\n",
    "\n",
    "# Add heatmap layer\n",
    "fig2012.add_layer(heat_layer)\n",
    "\n",
    "# Display figure\n",
    "fig2012"
   ]
  },
  {
   "cell_type": "code",
   "execution_count": 5,
   "metadata": {},
   "outputs": [
    {
     "data": {
      "application/vnd.jupyter.widget-view+json": {
       "model_id": "4c2190db976740859ada449caca11784",
       "version_major": 2,
       "version_minor": 0
      },
      "text/plain": [
       "Figure(layout=FigureLayout(height='420px'))"
      ]
     },
     "metadata": {},
     "output_type": "display_data"
    }
   ],
   "source": [
    "# set up market locations\n",
    "markerLocations = povertyDF[['Latitude', 'Longitude']]\n",
    "# Plot Heatmap\n",
    "fig2013 = gmaps.figure()\n",
    "\n",
    "# Create heat layer\n",
    "heat_layer = gmaps.heatmap_layer(stateCentroid, weights=povertyPercent2013 / 2, \n",
    "                                 dissipating=False, max_intensity=8,\n",
    "                                 point_radius=2)\n",
    "\n",
    "# Add heatmap layer\n",
    "fig2013.add_layer(heat_layer)\n",
    "\n",
    "# Display figure\n",
    "fig2013"
   ]
  },
  {
   "cell_type": "code",
   "execution_count": 6,
   "metadata": {},
   "outputs": [
    {
     "data": {
      "application/vnd.jupyter.widget-view+json": {
       "model_id": "85f882eda2e2468b809c38b4aef77ef6",
       "version_major": 2,
       "version_minor": 0
      },
      "text/plain": [
       "Figure(layout=FigureLayout(height='420px'))"
      ]
     },
     "metadata": {},
     "output_type": "display_data"
    }
   ],
   "source": [
    "# set up market locations\n",
    "markerLocations = povertyDF[['Latitude', 'Longitude']]\n",
    "# Plot Heatmap\n",
    "fig2014 = gmaps.figure()\n",
    "\n",
    "# Create heat layer\n",
    "heat_layer = gmaps.heatmap_layer(stateCentroid, weights=povertyPercent2014 / 2, \n",
    "                                 dissipating=False, max_intensity=8,\n",
    "                                 point_radius=2)\n",
    "\n",
    "# Add heatmap layer\n",
    "fig2014.add_layer(heat_layer)\n",
    "\n",
    "# Display figure\n",
    "fig2014"
   ]
  },
  {
   "cell_type": "code",
   "execution_count": 7,
   "metadata": {},
   "outputs": [
    {
     "data": {
      "application/vnd.jupyter.widget-view+json": {
       "model_id": "26d46bd9c1d94d3abddabccc4d7c00fb",
       "version_major": 2,
       "version_minor": 0
      },
      "text/plain": [
       "Figure(layout=FigureLayout(height='420px'))"
      ]
     },
     "metadata": {},
     "output_type": "display_data"
    }
   ],
   "source": [
    "# set up market locations\n",
    "markerLocations = povertyDF[['Latitude', 'Longitude']]\n",
    "# Plot Heatmap\n",
    "fig2015 = gmaps.figure()\n",
    "\n",
    "# Create heat layer\n",
    "heat_layer = gmaps.heatmap_layer(stateCentroid, weights=povertyPercent2015 / 2, \n",
    "                                 dissipating=False, max_intensity=8,\n",
    "                                 point_radius=2)\n",
    "\n",
    "# Add heatmap layer\n",
    "fig2015.add_layer(heat_layer)\n",
    "\n",
    "# Display figure\n",
    "fig2015"
   ]
  },
  {
   "cell_type": "code",
   "execution_count": 8,
   "metadata": {},
   "outputs": [
    {
     "data": {
      "application/vnd.jupyter.widget-view+json": {
       "model_id": "e0aa8d5e47ba4cbf8ac2841c1c382eb3",
       "version_major": 2,
       "version_minor": 0
      },
      "text/plain": [
       "Figure(layout=FigureLayout(height='420px'))"
      ]
     },
     "metadata": {},
     "output_type": "display_data"
    }
   ],
   "source": [
    "# set up market locations\n",
    "markerLocations = povertyDF[['Latitude', 'Longitude']]\n",
    "# Plot Heatmap\n",
    "fig2016 = gmaps.figure()\n",
    "\n",
    "# Create heat layer\n",
    "heat_layer = gmaps.heatmap_layer(stateCentroid, weights=povertyPercent2016 / 2, \n",
    "                                 dissipating=False, max_intensity=8,\n",
    "                                 point_radius=2)\n",
    "\n",
    "# Add heatmap layer\n",
    "fig2016.add_layer(heat_layer)\n",
    "\n",
    "# Display figure\n",
    "fig2016"
   ]
  },
  {
   "cell_type": "code",
   "execution_count": 9,
   "metadata": {},
   "outputs": [
    {
     "data": {
      "application/vnd.jupyter.widget-view+json": {
       "model_id": "84661d306c5e48d4b2f9769bfea0ce5e",
       "version_major": 2,
       "version_minor": 0
      },
      "text/plain": [
       "Figure(layout=FigureLayout(height='420px'))"
      ]
     },
     "metadata": {},
     "output_type": "display_data"
    }
   ],
   "source": [
    "# set up market locations\n",
    "markerLocations = povertyDF[['Latitude', 'Longitude']]\n",
    "# Plot Heatmap\n",
    "fig2017 = gmaps.figure()\n",
    "\n",
    "# Create heat layer\n",
    "heat_layer = gmaps.heatmap_layer(stateCentroid, weights=povertyPercent2017 / 2, \n",
    "                                 dissipating=False, max_intensity=8,\n",
    "                                 point_radius=2)\n",
    "\n",
    "# Add heatmap layer\n",
    "fig2017.add_layer(heat_layer)\n",
    "\n",
    "# Display figure\n",
    "fig2017"
   ]
  },
  {
   "cell_type": "code",
   "execution_count": null,
   "metadata": {},
   "outputs": [],
   "source": []
  }
 ],
 "metadata": {
  "kernelspec": {
   "display_name": "Python 3",
   "language": "python",
   "name": "python3"
  },
  "language_info": {
   "codemirror_mode": {
    "name": "ipython",
    "version": 3
   },
   "file_extension": ".py",
   "mimetype": "text/x-python",
   "name": "python",
   "nbconvert_exporter": "python",
   "pygments_lexer": "ipython3",
   "version": "3.7.2"
  }
 },
 "nbformat": 4,
 "nbformat_minor": 2
}
