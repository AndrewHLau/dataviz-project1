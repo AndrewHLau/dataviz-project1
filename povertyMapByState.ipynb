{
 "cells": [
  {
   "cell_type": "code",
   "execution_count": 1,
   "metadata": {},
   "outputs": [
    {
     "ename": "ModuleNotFoundError",
     "evalue": "No module named 'config'",
     "output_type": "error",
     "traceback": [
      "\u001b[0;31m---------------------------------------------------------------------------\u001b[0m",
      "\u001b[0;31mModuleNotFoundError\u001b[0m                       Traceback (most recent call last)",
      "\u001b[0;32m<ipython-input-1-7f6c9ac90a2b>\u001b[0m in \u001b[0;36m<module>\u001b[0;34m\u001b[0m\n\u001b[1;32m      5\u001b[0m \u001b[0;34m\u001b[0m\u001b[0m\n\u001b[1;32m      6\u001b[0m \u001b[0;31m# import Google spi key from Config file\u001b[0m\u001b[0;34m\u001b[0m\u001b[0;34m\u001b[0m\u001b[0;34m\u001b[0m\u001b[0m\n\u001b[0;32m----> 7\u001b[0;31m \u001b[0;32mfrom\u001b[0m \u001b[0mconfig\u001b[0m \u001b[0;32mimport\u001b[0m \u001b[0mgkey\u001b[0m\u001b[0;34m\u001b[0m\u001b[0;34m\u001b[0m\u001b[0m\n\u001b[0m\u001b[1;32m      8\u001b[0m \u001b[0;34m\u001b[0m\u001b[0m\n\u001b[1;32m      9\u001b[0m \u001b[0;31m# configure API key\u001b[0m\u001b[0;34m\u001b[0m\u001b[0;34m\u001b[0m\u001b[0;34m\u001b[0m\u001b[0m\n",
      "\u001b[0;31mModuleNotFoundError\u001b[0m: No module named 'config'"
     ]
    }
   ],
   "source": [
    "# import dependencies \n",
    "import os\n",
    "import gmaps\n",
    "import pandas as pd\n",
    "\n",
    "# import Google spi key from Config file\n",
    "from config import gkey\n",
    "\n",
    "# configure API key\n",
    "gmaps.configure(api_key=gkey)"
   ]
  },
  {
   "cell_type": "code",
   "execution_count": null,
   "metadata": {},
   "outputs": [],
   "source": [
    "# create state with centroid DataFrame\n",
    "povertyCSV = (os.path.join('povertyRateWithCentroids.csv'))\n",
    "povertyDF = pd.read_csv(povertyCSV)\n",
    "# remove index column that imported with CSV\n",
    "del povertyDF['Unnamed: 0']\n",
    "# preview poverty DataFrame\n",
    "povertyDF.head()\n"
   ]
  },
  {
   "cell_type": "code",
   "execution_count": null,
   "metadata": {},
   "outputs": [],
   "source": [
    "# store latitude and longitude values for state centroids\n",
    "stateCentroid = povertyDF[['Latitude', 'Longitude']]\n",
    "\n",
    "# store poverty %s for each state\n",
    "povertyPercent2012 = povertyDF['2012'].astype(float)\n",
    "povertyPercent2013 = povertyDF['2013'].astype(float)\n",
    "povertyPercent2014 = povertyDF['2014'].astype(float)\n",
    "povertyPercent2015 = povertyDF['2015'].astype(float)\n",
    "povertyPercent2016 = povertyDF['2016'].astype(float)\n",
    "povertyPercent2017 = povertyDF['2017'].astype(float)"
   ]
  },
  {
   "cell_type": "code",
   "execution_count": null,
   "metadata": {
    "scrolled": true
   },
   "outputs": [],
   "source": [
    "# set up market locations\n",
    "markerLocations = povertyDF[['Latitude', 'Longitude']]\n",
    "# Plot Heatmap\n",
    "fig2012 = gmaps.figure()\n",
    "\n",
    "# Create heat layer\n",
    "heat_layer = gmaps.heatmap_layer(stateCentroid, weights=povertyPercent2012 / 2, \n",
    "                                 dissipating=False, max_intensity=8,\n",
    "                                 point_radius=2)\n",
    "\n",
    "# Add heatmap layer\n",
    "fig2012.add_layer(heat_layer)\n",
    "\n",
    "# Display figure\n",
    "fig2012"
   ]
  },
  {
   "cell_type": "code",
   "execution_count": null,
   "metadata": {},
   "outputs": [],
   "source": [
    "# set up market locations\n",
    "markerLocations = povertyDF[['Latitude', 'Longitude']]\n",
    "# Plot Heatmap\n",
    "fig2013 = gmaps.figure()\n",
    "\n",
    "# Create heat layer\n",
    "heat_layer = gmaps.heatmap_layer(stateCentroid, weights=povertyPercent2013 / 2, \n",
    "                                 dissipating=False, max_intensity=8,\n",
    "                                 point_radius=2)\n",
    "\n",
    "# Add heatmap layer\n",
    "fig2013.add_layer(heat_layer)\n",
    "\n",
    "# Display figure\n",
    "fig2013"
   ]
  },
  {
   "cell_type": "code",
   "execution_count": null,
   "metadata": {},
   "outputs": [],
   "source": [
    "# set up market locations\n",
    "markerLocations = povertyDF[['Latitude', 'Longitude']]\n",
    "# Plot Heatmap\n",
    "fig2014 = gmaps.figure()\n",
    "\n",
    "# Create heat layer\n",
    "heat_layer = gmaps.heatmap_layer(stateCentroid, weights=povertyPercent2014 / 2, \n",
    "                                 dissipating=False, max_intensity=8,\n",
    "                                 point_radius=2)\n",
    "\n",
    "# Add heatmap layer\n",
    "fig2014.add_layer(heat_layer)\n",
    "\n",
    "# Display figure\n",
    "fig2014"
   ]
  },
  {
   "cell_type": "code",
   "execution_count": null,
   "metadata": {},
   "outputs": [],
   "source": [
    "# set up market locations\n",
    "markerLocations = povertyDF[['Latitude', 'Longitude']]\n",
    "# Plot Heatmap\n",
    "fig2015 = gmaps.figure()\n",
    "\n",
    "# Create heat layer\n",
    "heat_layer = gmaps.heatmap_layer(stateCentroid, weights=povertyPercent2015 / 2, \n",
    "                                 dissipating=False, max_intensity=8,\n",
    "                                 point_radius=2)\n",
    "\n",
    "# Add heatmap layer\n",
    "fig2015.add_layer(heat_layer)\n",
    "\n",
    "# Display figure\n",
    "fig2015"
   ]
  },
  {
   "cell_type": "code",
   "execution_count": null,
   "metadata": {},
   "outputs": [],
   "source": [
    "# set up market locations\n",
    "markerLocations = povertyDF[['Latitude', 'Longitude']]\n",
    "# Plot Heatmap\n",
    "fig2016 = gmaps.figure()\n",
    "\n",
    "# Create heat layer\n",
    "heat_layer = gmaps.heatmap_layer(stateCentroid, weights=povertyPercent2016 / 2, \n",
    "                                 dissipating=False, max_intensity=8,\n",
    "                                 point_radius=2)\n",
    "\n",
    "# Add heatmap layer\n",
    "fig2016.add_layer(heat_layer)\n",
    "\n",
    "# Display figure\n",
    "fig2016"
   ]
  },
  {
   "cell_type": "code",
   "execution_count": null,
   "metadata": {},
   "outputs": [],
   "source": [
    "# set up market locations\n",
    "markerLocations = povertyDF[['Latitude', 'Longitude']]\n",
    "# Plot Heatmap\n",
    "fig2017 = gmaps.figure()\n",
    "\n",
    "# Create heat layer\n",
    "heat_layer = gmaps.heatmap_layer(stateCentroid, weights=povertyPercent2017 / 2, \n",
    "                                 dissipating=False, max_intensity=8,\n",
    "                                 point_radius=2)\n",
    "\n",
    "# Add heatmap layer\n",
    "fig2017.add_layer(heat_layer)\n",
    "\n",
    "# Display figure\n",
    "fig2017"
   ]
  },
  {
   "cell_type": "code",
   "execution_count": null,
   "metadata": {},
   "outputs": [],
   "source": []
  }
 ],
 "metadata": {
  "kernelspec": {
   "display_name": "Python 3",
   "language": "python",
   "name": "python3"
  },
  "language_info": {
   "codemirror_mode": {
    "name": "ipython",
    "version": 3
   },
   "file_extension": ".py",
   "mimetype": "text/x-python",
   "name": "python",
   "nbconvert_exporter": "python",
   "pygments_lexer": "ipython3",
   "version": "3.7.1"
  }
 },
 "nbformat": 4,
 "nbformat_minor": 2
}
