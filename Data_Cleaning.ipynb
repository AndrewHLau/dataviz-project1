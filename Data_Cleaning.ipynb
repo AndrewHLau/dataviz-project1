{
 "cells": [
  {
   "cell_type": "code",
   "execution_count": 1,
   "metadata": {},
   "outputs": [],
   "source": [
    "# import dependencies\n",
    "import pandas as pd\n",
    "import numpy as np\n",
    "import os"
   ]
  },
  {
   "cell_type": "code",
   "execution_count": 2,
   "metadata": {},
   "outputs": [],
   "source": [
    "# Pull in original cancer data csvs from CDC and convert to dataframes\n",
    "# CSV pulled from https://wonder.cdc.gov/\n",
    "lung_df1 = pd.read_csv(os.path.join(\"Resources\", \"CDC_Cancer1.csv\"))\n",
    "lung_df2 = pd.read_csv(os.path.join(\"Resources\", \"CDC_Cancer2.csv\"))\n",
    "county_df = pd.read_csv(os.path.join(\"Resources\", \"CDC_Cancer_by_County.csv\"))\n",
    "\n",
    "# Pull in original poverty CSV from FRED and convert to dataframe\n",
    "# CSV pulled from https://geofred.stlouisfed.org/map/?th=pubugn&cc=5&rc=false&im=fractile&sb&lng=-49.6&lat=45.5&zm=2&sl&sv&am=Average&at=Not%20Seasonally%20Adjusted,%20Annual,%20Percent&dt=2015-01-01&fq=Annual&rt=county&sti=150203&un=lin\n",
    "povDF = pd.read_csv(os.path.join('Resources','Poverty%ByUSCounty.csv'))\n"
   ]
  },
  {
   "cell_type": "markdown",
   "metadata": {},
   "source": [
    "## Clean CDC Lung Cancer by State Data"
   ]
  },
  {
   "cell_type": "code",
   "execution_count": 3,
   "metadata": {},
   "outputs": [
    {
     "data": {
      "text/plain": [
       "State         102\n",
       "Year          102\n",
       "Sex           102\n",
       "Race          102\n",
       "Age Group     102\n",
       "Deaths        102\n",
       "Population    102\n",
       "Crude Rate    102\n",
       "dtype: int64"
      ]
     },
     "execution_count": 3,
     "metadata": {},
     "output_type": "execute_result"
    }
   ],
   "source": [
    "# Combine lung dataframes into single dataframe\n",
    "lung_df = lung_df1.append(lung_df2, ignore_index=True)\n",
    "\n",
    "# Delete unnecessary columns\n",
    "lung_df = lung_df.drop([\"Notes\", \"State Code\", \"Year Code\", \"Sex Code\", \"Race Code\", \"Age Group Code\"], axis=1)\n",
    "\n",
    "# Check to see if there are any null values in dataframe\n",
    "lung_df.isnull().sum()"
   ]
  },
  {
   "cell_type": "code",
   "execution_count": 4,
   "metadata": {},
   "outputs": [
    {
     "data": {
      "text/plain": [
       "State         0\n",
       "Year          0\n",
       "Sex           0\n",
       "Race          0\n",
       "Age Group     0\n",
       "Deaths        0\n",
       "Population    0\n",
       "Crude Rate    0\n",
       "dtype: int64"
      ]
     },
     "execution_count": 4,
     "metadata": {},
     "output_type": "execute_result"
    }
   ],
   "source": [
    "# Drop rows that have nothing but null values\n",
    "lung_df = lung_df.dropna(how=\"all\")\n",
    "# Verify there are no null values left\n",
    "lung_df.isnull().sum()"
   ]
  },
  {
   "cell_type": "markdown",
   "metadata": {},
   "source": [
    "## Clean CDC Lung Cancer by County Data"
   ]
  },
  {
   "cell_type": "code",
   "execution_count": 5,
   "metadata": {},
   "outputs": [
    {
     "data": {
      "text/plain": [
       "County        81\n",
       "Year          81\n",
       "Deaths        81\n",
       "Population    81\n",
       "Crude Rate    81\n",
       "dtype: int64"
      ]
     },
     "execution_count": 5,
     "metadata": {},
     "output_type": "execute_result"
    }
   ],
   "source": [
    "# Delete unnecessary columns\n",
    "county_df = county_df.drop([\"Notes\", \"County Code\", \"Year Code\"], axis =1)\n",
    "\n",
    "# Check to see if there are any null values in dataframe\n",
    "county_df.isnull().sum()"
   ]
  },
  {
   "cell_type": "code",
   "execution_count": 6,
   "metadata": {},
   "outputs": [
    {
     "data": {
      "text/plain": [
       "County        0\n",
       "Year          0\n",
       "Deaths        0\n",
       "Population    0\n",
       "Crude Rate    0\n",
       "dtype: int64"
      ]
     },
     "execution_count": 6,
     "metadata": {},
     "output_type": "execute_result"
    }
   ],
   "source": [
    "# Drop rows that have nothing but null values\n",
    "county_df = county_df.dropna(how=\"all\")\n",
    "# Verify there are no null values left\n",
    "county_df.isnull().sum()"
   ]
  },
  {
   "cell_type": "code",
   "execution_count": 7,
   "metadata": {},
   "outputs": [],
   "source": [
    "# For county dataframe, remove unreliable rows and rows with missing information\n",
    "county_df = county_df.loc[county_df[\"Crude Rate\"] != \"Unreliable\", :]\n",
    "county_df = county_df.loc[county_df[\"Deaths\"] != \"Missing\", :]"
   ]
  },
  {
   "cell_type": "code",
   "execution_count": 8,
   "metadata": {},
   "outputs": [],
   "source": [
    "# Export cancer cleaned cancer dataframes to csv files\n",
    "\n",
    "lung_df.to_csv(os.path.join('Output','Cancer_by_State_Cleaned.csv'))\n",
    "county_df.to_csv(os.path.join('Output','Cancer_by_County_Cleaned.csv'))"
   ]
  },
  {
   "cell_type": "markdown",
   "metadata": {},
   "source": [
    "## Clean FRED Poverty Data by County"
   ]
  },
  {
   "cell_type": "code",
   "execution_count": 9,
   "metadata": {},
   "outputs": [
    {
     "data": {
      "text/plain": [
       "County    0\n",
       "State     0\n",
       "2012      0\n",
       "2013      0\n",
       "2014      2\n",
       "2015      6\n",
       "2016      6\n",
       "2017      6\n",
       "dtype: int64"
      ]
     },
     "execution_count": 9,
     "metadata": {},
     "output_type": "execute_result"
    }
   ],
   "source": [
    "# Check to see if there are any null values in dataframe\n",
    "povDF.isnull().sum()"
   ]
  },
  {
   "cell_type": "code",
   "execution_count": 10,
   "metadata": {},
   "outputs": [
    {
     "data": {
      "text/plain": [
       "County    0\n",
       "State     0\n",
       "2012      0\n",
       "2013      0\n",
       "2014      0\n",
       "2015      0\n",
       "2016      0\n",
       "2017      0\n",
       "dtype: int64"
      ]
     },
     "execution_count": 10,
     "metadata": {},
     "output_type": "execute_result"
    }
   ],
   "source": [
    "# Drop rows that have null values\n",
    "povDF = povDF.dropna(how=\"any\")\n",
    "# Verify there are no null values left\n",
    "povDF.isnull().sum()"
   ]
  },
  {
   "cell_type": "code",
   "execution_count": 11,
   "metadata": {},
   "outputs": [
    {
     "data": {
      "text/html": [
       "<div>\n",
       "<style scoped>\n",
       "    .dataframe tbody tr th:only-of-type {\n",
       "        vertical-align: middle;\n",
       "    }\n",
       "\n",
       "    .dataframe tbody tr th {\n",
       "        vertical-align: top;\n",
       "    }\n",
       "\n",
       "    .dataframe thead th {\n",
       "        text-align: right;\n",
       "    }\n",
       "</style>\n",
       "<table border=\"1\" class=\"dataframe\">\n",
       "  <thead>\n",
       "    <tr style=\"text-align: right;\">\n",
       "      <th></th>\n",
       "      <th>County</th>\n",
       "      <th>State</th>\n",
       "      <th>2012</th>\n",
       "      <th>2013</th>\n",
       "      <th>2014</th>\n",
       "      <th>2015</th>\n",
       "      <th>2016</th>\n",
       "      <th>2017</th>\n",
       "    </tr>\n",
       "  </thead>\n",
       "  <tbody>\n",
       "    <tr>\n",
       "      <th>4632</th>\n",
       "      <td>Abbeville County, SC</td>\n",
       "      <td>SC</td>\n",
       "      <td>20.8</td>\n",
       "      <td>21.6</td>\n",
       "      <td>23.1</td>\n",
       "      <td>22.5</td>\n",
       "      <td>21.6</td>\n",
       "      <td>22.7</td>\n",
       "    </tr>\n",
       "    <tr>\n",
       "      <th>4678</th>\n",
       "      <td>Abbeville County, SC</td>\n",
       "      <td>SC</td>\n",
       "      <td>20.8</td>\n",
       "      <td>21.6</td>\n",
       "      <td>23.1</td>\n",
       "      <td>22.5</td>\n",
       "      <td>21.6</td>\n",
       "      <td>22.7</td>\n",
       "    </tr>\n",
       "    <tr>\n",
       "      <th>2290</th>\n",
       "      <td>Acadia Parish, LA</td>\n",
       "      <td>LA</td>\n",
       "      <td>19.1</td>\n",
       "      <td>18.7</td>\n",
       "      <td>19.9</td>\n",
       "      <td>20.6</td>\n",
       "      <td>20.6</td>\n",
       "      <td>21.5</td>\n",
       "    </tr>\n",
       "    <tr>\n",
       "      <th>2226</th>\n",
       "      <td>Acadia Parish, LA</td>\n",
       "      <td>LA</td>\n",
       "      <td>19.1</td>\n",
       "      <td>18.7</td>\n",
       "      <td>19.9</td>\n",
       "      <td>20.6</td>\n",
       "      <td>20.6</td>\n",
       "      <td>21.5</td>\n",
       "    </tr>\n",
       "    <tr>\n",
       "      <th>5746</th>\n",
       "      <td>Accomack County, VA</td>\n",
       "      <td>VA</td>\n",
       "      <td>20.2</td>\n",
       "      <td>20.5</td>\n",
       "      <td>20.5</td>\n",
       "      <td>19.6</td>\n",
       "      <td>19.5</td>\n",
       "      <td>19.8</td>\n",
       "    </tr>\n",
       "  </tbody>\n",
       "</table>\n",
       "</div>"
      ],
      "text/plain": [
       "                    County State  2012  2013  2014  2015  2016  2017\n",
       "4632  Abbeville County, SC    SC  20.8  21.6  23.1  22.5  21.6  22.7\n",
       "4678  Abbeville County, SC    SC  20.8  21.6  23.1  22.5  21.6  22.7\n",
       "2290     Acadia Parish, LA    LA  19.1  18.7  19.9  20.6  20.6  21.5\n",
       "2226     Acadia Parish, LA    LA  19.1  18.7  19.9  20.6  20.6  21.5\n",
       "5746   Accomack County, VA    VA  20.2  20.5  20.5  19.6  19.5  19.8"
      ]
     },
     "execution_count": 11,
     "metadata": {},
     "output_type": "execute_result"
    }
   ],
   "source": [
    "# Examine data\n",
    "povDF = povDF.sort_values(\"County\")\n",
    "povDF.head()"
   ]
  },
  {
   "cell_type": "code",
   "execution_count": 12,
   "metadata": {},
   "outputs": [
    {
     "data": {
      "text/html": [
       "<div>\n",
       "<style scoped>\n",
       "    .dataframe tbody tr th:only-of-type {\n",
       "        vertical-align: middle;\n",
       "    }\n",
       "\n",
       "    .dataframe tbody tr th {\n",
       "        vertical-align: top;\n",
       "    }\n",
       "\n",
       "    .dataframe thead th {\n",
       "        text-align: right;\n",
       "    }\n",
       "</style>\n",
       "<table border=\"1\" class=\"dataframe\">\n",
       "  <thead>\n",
       "    <tr style=\"text-align: right;\">\n",
       "      <th></th>\n",
       "      <th>County</th>\n",
       "      <th>State</th>\n",
       "      <th>2012</th>\n",
       "      <th>2013</th>\n",
       "      <th>2014</th>\n",
       "      <th>2015</th>\n",
       "      <th>2016</th>\n",
       "      <th>2017</th>\n",
       "    </tr>\n",
       "  </thead>\n",
       "  <tbody>\n",
       "    <tr>\n",
       "      <th>4632</th>\n",
       "      <td>Abbeville County, SC</td>\n",
       "      <td>SC</td>\n",
       "      <td>20.8</td>\n",
       "      <td>21.6</td>\n",
       "      <td>23.1</td>\n",
       "      <td>22.5</td>\n",
       "      <td>21.6</td>\n",
       "      <td>22.7</td>\n",
       "    </tr>\n",
       "    <tr>\n",
       "      <th>2290</th>\n",
       "      <td>Acadia Parish, LA</td>\n",
       "      <td>LA</td>\n",
       "      <td>19.1</td>\n",
       "      <td>18.7</td>\n",
       "      <td>19.9</td>\n",
       "      <td>20.6</td>\n",
       "      <td>20.6</td>\n",
       "      <td>21.5</td>\n",
       "    </tr>\n",
       "    <tr>\n",
       "      <th>5746</th>\n",
       "      <td>Accomack County, VA</td>\n",
       "      <td>VA</td>\n",
       "      <td>20.2</td>\n",
       "      <td>20.5</td>\n",
       "      <td>20.5</td>\n",
       "      <td>19.6</td>\n",
       "      <td>19.5</td>\n",
       "      <td>19.8</td>\n",
       "    </tr>\n",
       "    <tr>\n",
       "      <th>1344</th>\n",
       "      <td>Ada County, ID</td>\n",
       "      <td>ID</td>\n",
       "      <td>12.2</td>\n",
       "      <td>13.1</td>\n",
       "      <td>12.8</td>\n",
       "      <td>12.3</td>\n",
       "      <td>12.2</td>\n",
       "      <td>11.8</td>\n",
       "    </tr>\n",
       "    <tr>\n",
       "      <th>1201</th>\n",
       "      <td>Adair County, IA</td>\n",
       "      <td>IA</td>\n",
       "      <td>9.9</td>\n",
       "      <td>9.5</td>\n",
       "      <td>8.6</td>\n",
       "      <td>10.6</td>\n",
       "      <td>9.7</td>\n",
       "      <td>9.5</td>\n",
       "    </tr>\n",
       "  </tbody>\n",
       "</table>\n",
       "</div>"
      ],
      "text/plain": [
       "                    County State  2012  2013  2014  2015  2016  2017\n",
       "4632  Abbeville County, SC    SC  20.8  21.6  23.1  22.5  21.6  22.7\n",
       "2290     Acadia Parish, LA    LA  19.1  18.7  19.9  20.6  20.6  21.5\n",
       "5746   Accomack County, VA    VA  20.2  20.5  20.5  19.6  19.5  19.8\n",
       "1344        Ada County, ID    ID  12.2  13.1  12.8  12.3  12.2  11.8\n",
       "1201      Adair County, IA    IA   9.9   9.5   8.6  10.6   9.7   9.5"
      ]
     },
     "execution_count": 12,
     "metadata": {},
     "output_type": "execute_result"
    }
   ],
   "source": [
    "# Remove duplicate rows\n",
    "povDF = povDF.drop_duplicates()\n",
    "povDF.head()"
   ]
  },
  {
   "cell_type": "markdown",
   "metadata": {},
   "source": [
    "#### Cleaning County Poverty Data Process\n",
    "1. Checked CSV to see if there were any NULL values that existed\n",
    "2. Since there were only a handfull of NULL values the decision was made to drop those rows\n",
    "3. The DataFrame was sorted by County to allow for a quick quality check of the data, which showed all rows were duplicated\n",
    "4. Finaly, we removed these duplicate rows"
   ]
  },
  {
   "cell_type": "markdown",
   "metadata": {},
   "source": [
    "## Clean FRED Poverty Data by State"
   ]
  },
  {
   "cell_type": "code",
   "execution_count": 13,
   "metadata": {},
   "outputs": [
    {
     "name": "stdout",
     "output_type": "stream",
     "text": [
      "{' AL': 'Alabama', ' MT': 'Montana', ' AK': 'Alaska', ' NE': 'Nebraska', ' AZ': 'Arizona', ' NV': 'Nevada', ' AR': 'Arkansas', ' NH': 'New Hampshire', ' CA': 'California', ' NJ': 'New Jersey', ' CO': 'Colorado', ' NM': 'New Mexico', ' CT': 'Connecticut', ' NY': 'New York', ' DE': 'Delaware', ' NC': 'North Carolina', ' FL': 'Florida', ' ND': 'North Dakota', ' GA': 'Georgia', ' OH': 'Ohio', ' HI': 'Hawaii', ' OK': 'Oklahoma', ' ID': 'Idaho', ' OR': 'Oregon', ' IL': 'Illinois', ' PA': 'Pennsylvania', ' IN': 'Indiana', ' RI': 'Rhode Island', ' IA': 'Iowa', ' SC': 'South Carolina', ' KS': 'Kansas', ' SD': 'South Dakota', ' KY': 'Kentucky', ' TN': 'Tennessee', ' LA': 'Louisiana', ' TX': 'Texas', ' ME': 'Maine', ' UT': 'Utah', ' MD': 'Maryland', ' VT': 'Vermont', ' MA': 'Massachusetts', ' VA': 'Virginia', ' MI': 'Michigan', ' WA': 'Washington', ' MN': 'Minnesota', ' WV': 'West Virginia', ' MS': 'Mississippi', ' WI': 'Wisconsin', ' MO': 'Missouri', ' WY': 'Wyoming', ' DC': 'District of Columbia'}\n"
     ]
    }
   ],
   "source": [
    "# Replace State Initials with full state name\n",
    "\n",
    "# Create a dictionary for each of the state abbreviations so this can be merged with CDC data flawlessly\n",
    "abbrevToFullName = {'AL': 'Alabama', 'MT': 'Montana' , 'AK': 'Alaska', 'NE': 'Nebraska',\n",
    "                    'AZ': 'Arizona', 'NV': 'Nevada','AR': 'Arkansas', 'NH': 'New Hampshire',\n",
    "                    'CA': 'California', 'NJ': 'New Jersey', 'CO': 'Colorado', 'NM': 'New Mexico',\n",
    "                    'CT': 'Connecticut', 'NY': 'New York', 'DE': 'Delaware', 'NC': 'North Carolina',\n",
    "                    'FL': 'Florida', 'ND': 'North Dakota', 'GA': 'Georgia', 'OH': 'Ohio',\n",
    "                    'HI': 'Hawaii', 'OK': 'Oklahoma', 'ID': 'Idaho', 'OR': 'Oregon', 'IL': 'Illinois',\n",
    "                    'PA': 'Pennsylvania', 'IN': 'Indiana', 'RI': 'Rhode Island', 'IA': 'Iowa', 'SC': 'South Carolina',\n",
    "                    'KS': 'Kansas', 'SD': 'South Dakota', 'KY': 'Kentucky', 'TN': 'Tennessee', 'LA': 'Louisiana',\n",
    "                    'TX': 'Texas', 'ME': 'Maine', 'UT': 'Utah', 'MD': 'Maryland', 'VT': 'Vermont', \n",
    "                    'MA': 'Massachusetts', 'VA': 'Virginia', 'MI': 'Michigan', 'WA': 'Washington',\n",
    "                    'MN': 'Minnesota', 'WV': 'West Virginia', 'MS': 'Mississippi', 'WI': 'Wisconsin', \n",
    "                    'MO': 'Missouri', 'WY': 'Wyoming', 'DC': 'District of Columbia'}\n",
    "\n",
    "# Add a space in front of each key in the dictionary, original CSV has a SPACE before each abbreviation\n",
    "abbrevToFullNameWithSpaces = {(\" \" + abbrev):full for abbrev, full in abbrevToFullName.items()}\n",
    "\n",
    "# Show adjusted dictionary with spaces added\n",
    "print(abbrevToFullNameWithSpaces)"
   ]
  },
  {
   "cell_type": "code",
   "execution_count": 14,
   "metadata": {
    "scrolled": true
   },
   "outputs": [
    {
     "data": {
      "text/html": [
       "<div>\n",
       "<style scoped>\n",
       "    .dataframe tbody tr th:only-of-type {\n",
       "        vertical-align: middle;\n",
       "    }\n",
       "\n",
       "    .dataframe tbody tr th {\n",
       "        vertical-align: top;\n",
       "    }\n",
       "\n",
       "    .dataframe thead th {\n",
       "        text-align: right;\n",
       "    }\n",
       "</style>\n",
       "<table border=\"1\" class=\"dataframe\">\n",
       "  <thead>\n",
       "    <tr style=\"text-align: right;\">\n",
       "      <th></th>\n",
       "      <th>County</th>\n",
       "      <th>State</th>\n",
       "      <th>2012</th>\n",
       "      <th>2013</th>\n",
       "      <th>2014</th>\n",
       "      <th>2015</th>\n",
       "      <th>2016</th>\n",
       "      <th>2017</th>\n",
       "      <th>Full State Name</th>\n",
       "    </tr>\n",
       "  </thead>\n",
       "  <tbody>\n",
       "    <tr>\n",
       "      <th>4632</th>\n",
       "      <td>Abbeville County, SC</td>\n",
       "      <td>SC</td>\n",
       "      <td>20.8</td>\n",
       "      <td>21.6</td>\n",
       "      <td>23.1</td>\n",
       "      <td>22.5</td>\n",
       "      <td>21.6</td>\n",
       "      <td>22.7</td>\n",
       "      <td>South Carolina</td>\n",
       "    </tr>\n",
       "    <tr>\n",
       "      <th>2290</th>\n",
       "      <td>Acadia Parish, LA</td>\n",
       "      <td>LA</td>\n",
       "      <td>19.1</td>\n",
       "      <td>18.7</td>\n",
       "      <td>19.9</td>\n",
       "      <td>20.6</td>\n",
       "      <td>20.6</td>\n",
       "      <td>21.5</td>\n",
       "      <td>Louisiana</td>\n",
       "    </tr>\n",
       "    <tr>\n",
       "      <th>5746</th>\n",
       "      <td>Accomack County, VA</td>\n",
       "      <td>VA</td>\n",
       "      <td>20.2</td>\n",
       "      <td>20.5</td>\n",
       "      <td>20.5</td>\n",
       "      <td>19.6</td>\n",
       "      <td>19.5</td>\n",
       "      <td>19.8</td>\n",
       "      <td>Virginia</td>\n",
       "    </tr>\n",
       "    <tr>\n",
       "      <th>1344</th>\n",
       "      <td>Ada County, ID</td>\n",
       "      <td>ID</td>\n",
       "      <td>12.2</td>\n",
       "      <td>13.1</td>\n",
       "      <td>12.8</td>\n",
       "      <td>12.3</td>\n",
       "      <td>12.2</td>\n",
       "      <td>11.8</td>\n",
       "      <td>Idaho</td>\n",
       "    </tr>\n",
       "    <tr>\n",
       "      <th>1201</th>\n",
       "      <td>Adair County, IA</td>\n",
       "      <td>IA</td>\n",
       "      <td>9.9</td>\n",
       "      <td>9.5</td>\n",
       "      <td>8.6</td>\n",
       "      <td>10.6</td>\n",
       "      <td>9.7</td>\n",
       "      <td>9.5</td>\n",
       "      <td>Iowa</td>\n",
       "    </tr>\n",
       "  </tbody>\n",
       "</table>\n",
       "</div>"
      ],
      "text/plain": [
       "                    County State  2012  2013  2014  2015  2016  2017  \\\n",
       "4632  Abbeville County, SC    SC  20.8  21.6  23.1  22.5  21.6  22.7   \n",
       "2290     Acadia Parish, LA    LA  19.1  18.7  19.9  20.6  20.6  21.5   \n",
       "5746   Accomack County, VA    VA  20.2  20.5  20.5  19.6  19.5  19.8   \n",
       "1344        Ada County, ID    ID  12.2  13.1  12.8  12.3  12.2  11.8   \n",
       "1201      Adair County, IA    IA   9.9   9.5   8.6  10.6   9.7   9.5   \n",
       "\n",
       "     Full State Name  \n",
       "4632  South Carolina  \n",
       "2290       Louisiana  \n",
       "5746        Virginia  \n",
       "1344           Idaho  \n",
       "1201            Iowa  "
      ]
     },
     "execution_count": 14,
     "metadata": {},
     "output_type": "execute_result"
    }
   ],
   "source": [
    "# Map full state name into the CSV by pairing full state name from dictionary with the state abbreviation\n",
    "povDF['Full State Name'] = povDF['State'].map(abbrevToFullNameWithSpaces)\n",
    "\n",
    "# Preview dataframe with full state name added\n",
    "povDF.head()"
   ]
  },
  {
   "cell_type": "code",
   "execution_count": 15,
   "metadata": {},
   "outputs": [
    {
     "data": {
      "text/html": [
       "<div>\n",
       "<style scoped>\n",
       "    .dataframe tbody tr th:only-of-type {\n",
       "        vertical-align: middle;\n",
       "    }\n",
       "\n",
       "    .dataframe tbody tr th {\n",
       "        vertical-align: top;\n",
       "    }\n",
       "\n",
       "    .dataframe thead th {\n",
       "        text-align: right;\n",
       "    }\n",
       "</style>\n",
       "<table border=\"1\" class=\"dataframe\">\n",
       "  <thead>\n",
       "    <tr style=\"text-align: right;\">\n",
       "      <th></th>\n",
       "      <th>Full State Name</th>\n",
       "      <th>State</th>\n",
       "      <th>County</th>\n",
       "      <th>2012</th>\n",
       "      <th>2013</th>\n",
       "      <th>2014</th>\n",
       "      <th>2015</th>\n",
       "      <th>2016</th>\n",
       "      <th>2017</th>\n",
       "    </tr>\n",
       "  </thead>\n",
       "  <tbody>\n",
       "    <tr>\n",
       "      <th>4632</th>\n",
       "      <td>South Carolina</td>\n",
       "      <td>SC</td>\n",
       "      <td>Abbeville County, SC</td>\n",
       "      <td>20.8</td>\n",
       "      <td>21.6</td>\n",
       "      <td>23.1</td>\n",
       "      <td>22.5</td>\n",
       "      <td>21.6</td>\n",
       "      <td>22.7</td>\n",
       "    </tr>\n",
       "    <tr>\n",
       "      <th>2290</th>\n",
       "      <td>Louisiana</td>\n",
       "      <td>LA</td>\n",
       "      <td>Acadia Parish, LA</td>\n",
       "      <td>19.1</td>\n",
       "      <td>18.7</td>\n",
       "      <td>19.9</td>\n",
       "      <td>20.6</td>\n",
       "      <td>20.6</td>\n",
       "      <td>21.5</td>\n",
       "    </tr>\n",
       "    <tr>\n",
       "      <th>5746</th>\n",
       "      <td>Virginia</td>\n",
       "      <td>VA</td>\n",
       "      <td>Accomack County, VA</td>\n",
       "      <td>20.2</td>\n",
       "      <td>20.5</td>\n",
       "      <td>20.5</td>\n",
       "      <td>19.6</td>\n",
       "      <td>19.5</td>\n",
       "      <td>19.8</td>\n",
       "    </tr>\n",
       "    <tr>\n",
       "      <th>1344</th>\n",
       "      <td>Idaho</td>\n",
       "      <td>ID</td>\n",
       "      <td>Ada County, ID</td>\n",
       "      <td>12.2</td>\n",
       "      <td>13.1</td>\n",
       "      <td>12.8</td>\n",
       "      <td>12.3</td>\n",
       "      <td>12.2</td>\n",
       "      <td>11.8</td>\n",
       "    </tr>\n",
       "    <tr>\n",
       "      <th>1201</th>\n",
       "      <td>Iowa</td>\n",
       "      <td>IA</td>\n",
       "      <td>Adair County, IA</td>\n",
       "      <td>9.9</td>\n",
       "      <td>9.5</td>\n",
       "      <td>8.6</td>\n",
       "      <td>10.6</td>\n",
       "      <td>9.7</td>\n",
       "      <td>9.5</td>\n",
       "    </tr>\n",
       "  </tbody>\n",
       "</table>\n",
       "</div>"
      ],
      "text/plain": [
       "     Full State Name State                County  2012  2013  2014  2015  \\\n",
       "4632  South Carolina    SC  Abbeville County, SC  20.8  21.6  23.1  22.5   \n",
       "2290       Louisiana    LA     Acadia Parish, LA  19.1  18.7  19.9  20.6   \n",
       "5746        Virginia    VA   Accomack County, VA  20.2  20.5  20.5  19.6   \n",
       "1344           Idaho    ID        Ada County, ID  12.2  13.1  12.8  12.3   \n",
       "1201            Iowa    IA      Adair County, IA   9.9   9.5   8.6  10.6   \n",
       "\n",
       "      2016  2017  \n",
       "4632  21.6  22.7  \n",
       "2290  20.6  21.5  \n",
       "5746  19.5  19.8  \n",
       "1344  12.2  11.8  \n",
       "1201   9.7   9.5  "
      ]
     },
     "execution_count": 15,
     "metadata": {},
     "output_type": "execute_result"
    }
   ],
   "source": [
    "# Set up what we want to new order to be in the revised dataframe\n",
    "newOrder = ['Full State Name', 'State', 'County', '2012', '2013', '2014', '2015', '2016', '2017']\n",
    "\n",
    "# Reorder columns in new data frame\n",
    "povertyRates = povDF.reindex(columns=newOrder)\n",
    "\n",
    "# Preview final dataFrame\n",
    "povertyRates.head()"
   ]
  },
  {
   "cell_type": "code",
   "execution_count": 16,
   "metadata": {},
   "outputs": [
    {
     "data": {
      "text/html": [
       "<div>\n",
       "<style scoped>\n",
       "    .dataframe tbody tr th:only-of-type {\n",
       "        vertical-align: middle;\n",
       "    }\n",
       "\n",
       "    .dataframe tbody tr th {\n",
       "        vertical-align: top;\n",
       "    }\n",
       "\n",
       "    .dataframe thead th {\n",
       "        text-align: right;\n",
       "    }\n",
       "</style>\n",
       "<table border=\"1\" class=\"dataframe\">\n",
       "  <thead>\n",
       "    <tr style=\"text-align: right;\">\n",
       "      <th></th>\n",
       "      <th>2012</th>\n",
       "      <th>2013</th>\n",
       "      <th>2014</th>\n",
       "      <th>2015</th>\n",
       "      <th>2016</th>\n",
       "      <th>2017</th>\n",
       "    </tr>\n",
       "    <tr>\n",
       "      <th>Full State Name</th>\n",
       "      <th></th>\n",
       "      <th></th>\n",
       "      <th></th>\n",
       "      <th></th>\n",
       "      <th></th>\n",
       "      <th></th>\n",
       "    </tr>\n",
       "  </thead>\n",
       "  <tbody>\n",
       "    <tr>\n",
       "      <th>Alabama</th>\n",
       "      <td>19.8</td>\n",
       "      <td>20.90</td>\n",
       "      <td>20.5</td>\n",
       "      <td>20.2</td>\n",
       "      <td>20.30</td>\n",
       "      <td>19.30</td>\n",
       "    </tr>\n",
       "    <tr>\n",
       "      <th>Alaska</th>\n",
       "      <td>10.5</td>\n",
       "      <td>10.20</td>\n",
       "      <td>10.2</td>\n",
       "      <td>11.3</td>\n",
       "      <td>10.80</td>\n",
       "      <td>10.60</td>\n",
       "    </tr>\n",
       "    <tr>\n",
       "      <th>Arizona</th>\n",
       "      <td>20.2</td>\n",
       "      <td>19.40</td>\n",
       "      <td>19.9</td>\n",
       "      <td>19.8</td>\n",
       "      <td>20.50</td>\n",
       "      <td>19.70</td>\n",
       "    </tr>\n",
       "    <tr>\n",
       "      <th>Arkansas</th>\n",
       "      <td>20.4</td>\n",
       "      <td>21.50</td>\n",
       "      <td>21.1</td>\n",
       "      <td>21.0</td>\n",
       "      <td>20.60</td>\n",
       "      <td>19.80</td>\n",
       "    </tr>\n",
       "    <tr>\n",
       "      <th>California</th>\n",
       "      <td>15.5</td>\n",
       "      <td>16.65</td>\n",
       "      <td>16.7</td>\n",
       "      <td>16.6</td>\n",
       "      <td>16.25</td>\n",
       "      <td>15.25</td>\n",
       "    </tr>\n",
       "  </tbody>\n",
       "</table>\n",
       "</div>"
      ],
      "text/plain": [
       "                 2012   2013  2014  2015   2016   2017\n",
       "Full State Name                                       \n",
       "Alabama          19.8  20.90  20.5  20.2  20.30  19.30\n",
       "Alaska           10.5  10.20  10.2  11.3  10.80  10.60\n",
       "Arizona          20.2  19.40  19.9  19.8  20.50  19.70\n",
       "Arkansas         20.4  21.50  21.1  21.0  20.60  19.80\n",
       "California       15.5  16.65  16.7  16.6  16.25  15.25"
      ]
     },
     "execution_count": 16,
     "metadata": {},
     "output_type": "execute_result"
    }
   ],
   "source": [
    "# Create dataframe of median poverty rates per state\n",
    "groupedPovDF = povertyRates.groupby('Full State Name')\n",
    "medianPovRate2012 = groupedPovDF['2012'].median()\n",
    "medianPovRate2013 = groupedPovDF['2013'].median()\n",
    "medianPovRate2014 = groupedPovDF['2014'].median()\n",
    "medianPovRate2015 = groupedPovDF['2015'].median()\n",
    "medianPovRate2016 = groupedPovDF['2016'].median()\n",
    "medianPovRate2017 = groupedPovDF['2017'].median()\n",
    "\n",
    "groupMedianDF = pd.DataFrame({'2012': medianPovRate2012,\n",
    "                              '2013': medianPovRate2013,\n",
    "                              '2014': medianPovRate2014, \n",
    "                              '2015': medianPovRate2015,\n",
    "                              '2016': medianPovRate2016, \n",
    "                              '2017': medianPovRate2017\n",
    "                             })\n",
    "# preview table of all states with median poverty rates\n",
    "groupMedianDF.head()"
   ]
  },
  {
   "cell_type": "code",
   "execution_count": 17,
   "metadata": {},
   "outputs": [],
   "source": [
    "# Export clean poverty data to csvs\n",
    "povertyRates.to_csv(os.path.join('Output', 'Poverty_County_Data_Cleaned.csv'))\n",
    "groupMedianDF.to_csv(os.path.join('Output', 'Poverty_States_Data_Cleaned.csv'))"
   ]
  },
  {
   "cell_type": "markdown",
   "metadata": {},
   "source": [
    "#### Cleaning State Poverty Data Process\n",
    "1. Since states are broken out in abbreviations, we created a dictionary that aligned state abbreviations with the full state namees, included in this step is a dictionary comprehension that adds a space to the front of each Abbreviation in the dictionary because in the original DataFrame there was a space, which needed to be added to the dictionary for easy mapping\n",
    "2. Next step was to create a new column for the Full State Name, this was done by using the dictionary to map the abbreviated State codes into the new column that houses the FUll State Name\n",
    "3. We then reordered the columns in the County level Poverty Dataframe for better readability\n",
    "4. Finaly to complete the state dataframe we Grouped everything on the new Full State Name Column, and extracted the row that housed the county with the Median Poverty Rate for each individual state"
   ]
  },
  {
   "cell_type": "code",
   "execution_count": null,
   "metadata": {},
   "outputs": [],
   "source": []
  }
 ],
 "metadata": {
  "kernelspec": {
   "display_name": "Python 3",
   "language": "python",
   "name": "python3"
  },
  "language_info": {
   "codemirror_mode": {
    "name": "ipython",
    "version": 3
   },
   "file_extension": ".py",
   "mimetype": "text/x-python",
   "name": "python",
   "nbconvert_exporter": "python",
   "pygments_lexer": "ipython3",
   "version": "3.7.2"
  }
 },
 "nbformat": 4,
 "nbformat_minor": 2
}
