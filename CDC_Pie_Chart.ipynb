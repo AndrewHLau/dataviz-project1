{
 "cells": [
  {
   "cell_type": "code",
   "execution_count": 1,
   "metadata": {},
   "outputs": [],
   "source": [
    "# Dependencies and Setup\n",
    "%matplotlib inline\n",
    "import matplotlib.pyplot as plt\n",
    "import pandas as pd\n",
    "import numpy as np\n",
    "import os\n",
    "import scipy.stats as stats"
   ]
  },
  {
   "cell_type": "code",
   "execution_count": 2,
   "metadata": {},
   "outputs": [],
   "source": [
    "# Convert data to dataframes\n",
    "lung_df1 = pd.read_csv(os.path.join(\"Resources\", \"CDC_Cancer1.csv\"))\n",
    "lung_df2 = pd.read_csv(os.path.join(\"Resources\", \"CDC_Cancer2.csv\"))\n",
    "\n",
    "# Combine dataframes into single dataframe\n",
    "lung_df = lung_df1.append(lung_df2, ignore_index=True)\n",
    "\n",
    "# Delete unnecessary columns\n",
    "lung_df = lung_df.drop([\"Notes\", \"State Code\", \"Year Code\", \"Sex Code\", \"Race Code\", \"Age Group Code\"], axis=1)"
   ]
  },
  {
   "cell_type": "code",
   "execution_count": 3,
   "metadata": {},
   "outputs": [
    {
     "data": {
      "text/plain": [
       "State         102\n",
       "Year          102\n",
       "Sex           102\n",
       "Race          102\n",
       "Age Group     102\n",
       "Deaths        102\n",
       "Population    102\n",
       "Crude Rate    102\n",
       "dtype: int64"
      ]
     },
     "execution_count": 3,
     "metadata": {},
     "output_type": "execute_result"
    }
   ],
   "source": [
    "# Check to see if there are any null values in dataframe\n",
    "lung_df.isnull().sum()"
   ]
  },
  {
   "cell_type": "code",
   "execution_count": 4,
   "metadata": {},
   "outputs": [
    {
     "data": {
      "text/plain": [
       "State         0\n",
       "Year          0\n",
       "Sex           0\n",
       "Race          0\n",
       "Age Group     0\n",
       "Deaths        0\n",
       "Population    0\n",
       "Crude Rate    0\n",
       "dtype: int64"
      ]
     },
     "execution_count": 4,
     "metadata": {},
     "output_type": "execute_result"
    }
   ],
   "source": [
    "# Drop rows that have nothing but null values\n",
    "lung_df = lung_df.dropna(how=\"all\")\n",
    "# Verify there are no null values left\n",
    "lung_df.isnull().sum()"
   ]
  },
  {
   "cell_type": "code",
   "execution_count": 5,
   "metadata": {},
   "outputs": [
    {
     "data": {
      "text/html": [
       "<div>\n",
       "<style scoped>\n",
       "    .dataframe tbody tr th:only-of-type {\n",
       "        vertical-align: middle;\n",
       "    }\n",
       "\n",
       "    .dataframe tbody tr th {\n",
       "        vertical-align: top;\n",
       "    }\n",
       "\n",
       "    .dataframe thead th {\n",
       "        text-align: right;\n",
       "    }\n",
       "</style>\n",
       "<table border=\"1\" class=\"dataframe\">\n",
       "  <thead>\n",
       "    <tr style=\"text-align: right;\">\n",
       "      <th></th>\n",
       "      <th>State</th>\n",
       "      <th>Year</th>\n",
       "      <th>Sex</th>\n",
       "      <th>Race</th>\n",
       "      <th>Age Group</th>\n",
       "      <th>Deaths</th>\n",
       "      <th>Population</th>\n",
       "      <th>Crude Rate</th>\n",
       "    </tr>\n",
       "  </thead>\n",
       "  <tbody>\n",
       "    <tr>\n",
       "      <th>0</th>\n",
       "      <td>Alabama</td>\n",
       "      <td>2006</td>\n",
       "      <td>Female</td>\n",
       "      <td>American Indian or Alaska Native</td>\n",
       "      <td>&lt; 1 year</td>\n",
       "      <td>0</td>\n",
       "      <td>131</td>\n",
       "      <td>0.0</td>\n",
       "    </tr>\n",
       "    <tr>\n",
       "      <th>1</th>\n",
       "      <td>Alabama</td>\n",
       "      <td>2006</td>\n",
       "      <td>Female</td>\n",
       "      <td>American Indian or Alaska Native</td>\n",
       "      <td>1-4 years</td>\n",
       "      <td>0</td>\n",
       "      <td>788</td>\n",
       "      <td>0.0</td>\n",
       "    </tr>\n",
       "    <tr>\n",
       "      <th>2</th>\n",
       "      <td>Alabama</td>\n",
       "      <td>2006</td>\n",
       "      <td>Female</td>\n",
       "      <td>American Indian or Alaska Native</td>\n",
       "      <td>5-9 years</td>\n",
       "      <td>0</td>\n",
       "      <td>1093</td>\n",
       "      <td>0.0</td>\n",
       "    </tr>\n",
       "    <tr>\n",
       "      <th>3</th>\n",
       "      <td>Alabama</td>\n",
       "      <td>2006</td>\n",
       "      <td>Female</td>\n",
       "      <td>American Indian or Alaska Native</td>\n",
       "      <td>10-14 years</td>\n",
       "      <td>0</td>\n",
       "      <td>1237</td>\n",
       "      <td>0.0</td>\n",
       "    </tr>\n",
       "    <tr>\n",
       "      <th>4</th>\n",
       "      <td>Alabama</td>\n",
       "      <td>2006</td>\n",
       "      <td>Female</td>\n",
       "      <td>American Indian or Alaska Native</td>\n",
       "      <td>15-19 years</td>\n",
       "      <td>0</td>\n",
       "      <td>1305</td>\n",
       "      <td>0.0</td>\n",
       "    </tr>\n",
       "  </tbody>\n",
       "</table>\n",
       "</div>"
      ],
      "text/plain": [
       "     State  Year     Sex                              Race    Age Group  \\\n",
       "0  Alabama  2006  Female  American Indian or Alaska Native     < 1 year   \n",
       "1  Alabama  2006  Female  American Indian or Alaska Native    1-4 years   \n",
       "2  Alabama  2006  Female  American Indian or Alaska Native    5-9 years   \n",
       "3  Alabama  2006  Female  American Indian or Alaska Native  10-14 years   \n",
       "4  Alabama  2006  Female  American Indian or Alaska Native  15-19 years   \n",
       "\n",
       "   Deaths  Population  Crude Rate  \n",
       "0       0         131         0.0  \n",
       "1       0         788         0.0  \n",
       "2       0        1093         0.0  \n",
       "3       0        1237         0.0  \n",
       "4       0        1305         0.0  "
      ]
     },
     "execution_count": 5,
     "metadata": {},
     "output_type": "execute_result"
    }
   ],
   "source": [
    "# Cast \"Year\", \"Deaths\", and \"Population\" columns as integers\n",
    "lung_df[\"Year\"] = lung_df[\"Year\"].astype(int)\n",
    "lung_df[\"Deaths\"] = lung_df[\"Deaths\"].astype(int)\n",
    "lung_df[\"Population\"] = lung_df[\"Population\"].astype(int)\n",
    "lung_df.head()"
   ]
  },
  {
   "cell_type": "code",
   "execution_count": 6,
   "metadata": {},
   "outputs": [
    {
     "data": {
      "text/html": [
       "<div>\n",
       "<style scoped>\n",
       "    .dataframe tbody tr th:only-of-type {\n",
       "        vertical-align: middle;\n",
       "    }\n",
       "\n",
       "    .dataframe tbody tr th {\n",
       "        vertical-align: top;\n",
       "    }\n",
       "\n",
       "    .dataframe thead th {\n",
       "        text-align: right;\n",
       "    }\n",
       "</style>\n",
       "<table border=\"1\" class=\"dataframe\">\n",
       "  <thead>\n",
       "    <tr style=\"text-align: right;\">\n",
       "      <th>Race</th>\n",
       "      <th>American Indian or Alaska Native</th>\n",
       "      <th>Asian or Pacific Islander</th>\n",
       "      <th>Black or African American</th>\n",
       "      <th>White</th>\n",
       "    </tr>\n",
       "    <tr>\n",
       "      <th>Year</th>\n",
       "      <th></th>\n",
       "      <th></th>\n",
       "      <th></th>\n",
       "      <th></th>\n",
       "    </tr>\n",
       "  </thead>\n",
       "  <tbody>\n",
       "    <tr>\n",
       "      <th>2006</th>\n",
       "      <td>0</td>\n",
       "      <td>1579</td>\n",
       "      <td>14269</td>\n",
       "      <td>137040</td>\n",
       "    </tr>\n",
       "    <tr>\n",
       "      <th>2007</th>\n",
       "      <td>32</td>\n",
       "      <td>1544</td>\n",
       "      <td>14415</td>\n",
       "      <td>136871</td>\n",
       "    </tr>\n",
       "    <tr>\n",
       "      <th>2008</th>\n",
       "      <td>40</td>\n",
       "      <td>1669</td>\n",
       "      <td>14061</td>\n",
       "      <td>136894</td>\n",
       "    </tr>\n",
       "    <tr>\n",
       "      <th>2009</th>\n",
       "      <td>32</td>\n",
       "      <td>1698</td>\n",
       "      <td>13975</td>\n",
       "      <td>136293</td>\n",
       "    </tr>\n",
       "    <tr>\n",
       "      <th>2010</th>\n",
       "      <td>73</td>\n",
       "      <td>1664</td>\n",
       "      <td>14396</td>\n",
       "      <td>135790</td>\n",
       "    </tr>\n",
       "  </tbody>\n",
       "</table>\n",
       "</div>"
      ],
      "text/plain": [
       "Race  American Indian or Alaska Native  Asian or Pacific Islander  \\\n",
       "Year                                                                \n",
       "2006                                 0                       1579   \n",
       "2007                                32                       1544   \n",
       "2008                                40                       1669   \n",
       "2009                                32                       1698   \n",
       "2010                                73                       1664   \n",
       "\n",
       "Race  Black or African American   White  \n",
       "Year                                     \n",
       "2006                      14269  137040  \n",
       "2007                      14415  136871  \n",
       "2008                      14061  136894  \n",
       "2009                      13975  136293  \n",
       "2010                      14396  135790  "
      ]
     },
     "execution_count": 6,
     "metadata": {},
     "output_type": "execute_result"
    }
   ],
   "source": [
    "# Create dataframe of lung cancer deaths by year and race\n",
    "lung_race_df = lung_df.groupby([\"Year\", \"Race\"])[\"Deaths\"].sum().unstack()\n",
    "# Create dataframe of population by year and race\n",
    "pop_race_df = lung_df.groupby([\"Year\", \"Race\"])[\"Population\"].sum().unstack()\n",
    "lung_race_df.head()"
   ]
  },
  {
   "cell_type": "code",
   "execution_count": 7,
   "metadata": {},
   "outputs": [],
   "source": [
    "#Set values for each section of the pie charts\n",
    "lung_race_perc = lung_race_df.loc[2015]/lung_race_df.loc[2015].sum()\n",
    "pop_race_perc = pop_race_df.loc[2015].tolist()/pop_race_df.loc[2015].sum()"
   ]
  },
  {
   "cell_type": "code",
   "execution_count": 70,
   "metadata": {},
   "outputs": [
    {
     "data": {
      "image/png": "[encoded data removed]",
      "text/plain": [
       "<Figure size 1152x576 with 2 Axes>"
      ]
     },
     "metadata": {},
     "output_type": "display_data"
    }
   ],
   "source": [
    "# Create pie charts\n",
    "\n",
    "explode = [0.6, 0.4, 0.2, 0]\n",
    "races = list(lung_race_df)\n",
    "colors = [\"lightgreen\", \"orange\", \"lightcoral\", \"lightskyblue\"]\n",
    "\n",
    "fig, [ax1,ax2] = plt.subplots(1, 2, figsize = (16, 8))\n",
    "ax1.set_title(\"Lung Deaths in 2015\", fontsize = 18)\n",
    "ax2.set_title(\"Total Population in 2015\", fontsize = 18)\n",
    "\n",
    "patches1, texts1, autotexts1 = ax1.pie(lung_race_perc, labels = races, colors = colors, explode = explode, \n",
    "                                       autopct=\"%1.1f%%\",shadow=True, startangle = 120, pctdistance=1.2, \n",
    "                                       labeldistance=1.35)\n",
    "patches2, texts2, autotexts2 = ax2.pie(pop_race_perc, labels = races, colors = colors, explode = explode, \n",
    "                                       autopct=\"%1.1f%%\",shadow=True, startangle = 120, pctdistance=1.2, \n",
    "                                       labeldistance=1.35)\n",
    "\n",
    "for text in texts1:\n",
    "    text.set_fontsize(14)\n",
    "for autotext in autotexts1:\n",
    "    autotext.set_fontsize(11)\n",
    "for text in texts2:\n",
    "    text.set_fontsize(14)\n",
    "for autotext in autotexts2:\n",
    "    autotext.set_fontsize(11)\n",
    "\n",
    "ax1.axis(\"equal\")\n",
    "ax2.axis(\"equal\")\n",
    "plt.tight_layout()\n",
    "plt.savefig(os.path.join(\"Output\", \"Pie_Chart_2015_Cancer.png\"))\n",
    "plt.show()\n"
   ]
  },
  {
   "cell_type": "markdown",
   "metadata": {},
   "source": [
    "## Perform Chi-squared Goodness of Fit Test for Race"
   ]
  },
  {
   "cell_type": "code",
   "execution_count": 73,
   "metadata": {},
   "outputs": [
    {
     "data": {
      "text/html": [
       "<div>\n",
       "<style scoped>\n",
       "    .dataframe tbody tr th:only-of-type {\n",
       "        vertical-align: middle;\n",
       "    }\n",
       "\n",
       "    .dataframe tbody tr th {\n",
       "        vertical-align: top;\n",
       "    }\n",
       "\n",
       "    .dataframe thead th {\n",
       "        text-align: right;\n",
       "    }\n",
       "</style>\n",
       "<table border=\"1\" class=\"dataframe\">\n",
       "  <thead>\n",
       "    <tr style=\"text-align: right;\">\n",
       "      <th></th>\n",
       "      <th>Observed</th>\n",
       "      <th>Expected</th>\n",
       "    </tr>\n",
       "    <tr>\n",
       "      <th>Race</th>\n",
       "      <th></th>\n",
       "      <th></th>\n",
       "    </tr>\n",
       "  </thead>\n",
       "  <tbody>\n",
       "    <tr>\n",
       "      <th>American Indian or Alaska Native</th>\n",
       "      <td>50</td>\n",
       "      <td>2214.0</td>\n",
       "    </tr>\n",
       "    <tr>\n",
       "      <th>Asian or Pacific Islander</th>\n",
       "      <td>2252</td>\n",
       "      <td>8058.0</td>\n",
       "    </tr>\n",
       "    <tr>\n",
       "      <th>Black or African American</th>\n",
       "      <td>14123</td>\n",
       "      <td>20495.0</td>\n",
       "    </tr>\n",
       "    <tr>\n",
       "      <th>White</th>\n",
       "      <td>130970</td>\n",
       "      <td>116628.0</td>\n",
       "    </tr>\n",
       "  </tbody>\n",
       "</table>\n",
       "</div>"
      ],
      "text/plain": [
       "                                  Observed  Expected\n",
       "Race                                                \n",
       "American Indian or Alaska Native        50    2214.0\n",
       "Asian or Pacific Islander             2252    8058.0\n",
       "Black or African American            14123   20495.0\n",
       "White                               130970  116628.0"
      ]
     },
     "execution_count": 73,
     "metadata": {},
     "output_type": "execute_result"
    }
   ],
   "source": [
    "# Create dataframe of observed and expected values\n",
    "deaths_2015 = lung_df[lung_df.Year==2015].groupby([\"Year\"])[\"Deaths\"].sum()\n",
    "expected_2015 = [round(x*deaths_2015[2015]) for x in pop_race_perc]\n",
    "observed_2015 = lung_race_df.loc[2015]\n",
    "races_df = pd.DataFrame({\"Observed\": observed_2015, \"Expected\": expected_2015})\n",
    "races_df"
   ]
  },
  {
   "cell_type": "code",
   "execution_count": 78,
   "metadata": {},
   "outputs": [
    {
     "data": {
      "text/plain": [
       "16.26623619623813"
      ]
     },
     "execution_count": 78,
     "metadata": {},
     "output_type": "execute_result"
    }
   ],
   "source": [
    "# Determine critical value for a p-value of .001 and \n",
    "critical_value = stats.chi2.ppf(q = 0.999, df = 3)\n",
    "critical_value"
   ]
  },
  {
   "cell_type": "code",
   "execution_count": 79,
   "metadata": {},
   "outputs": [
    {
     "data": {
      "text/plain": [
       "Power_divergenceResult(statistic=10043.258576797984, pvalue=0.0)"
      ]
     },
     "execution_count": 79,
     "metadata": {},
     "output_type": "execute_result"
    }
   ],
   "source": [
    "# Run the chi square test with stats.chisquare()\n",
    "stats.chisquare(races_df[\"Observed\"], races_df[\"Expected\"])"
   ]
  },
  {
   "cell_type": "markdown",
   "metadata": {},
   "source": [
    "### Conclusion\n",
    "\n",
    "Since the chi square value of 10042.59 exceeds the critical value of 16.27, we conclude that the relationship between race and lung cancer mortality in 2015 is highly statistically significant."
   ]
  },
  {
   "cell_type": "code",
   "execution_count": null,
   "metadata": {},
   "outputs": [],
   "source": []
  }
 ],
 "metadata": {
  "kernelspec": {
   "display_name": "PythonData",
   "language": "python",
   "name": "pythondata"
  },
  "language_info": {
   "codemirror_mode": {
    "name": "ipython",
    "version": 3
   },
   "file_extension": ".py",
   "mimetype": "text/x-python",
   "name": "python",
   "nbconvert_exporter": "python",
   "pygments_lexer": "ipython3",
   "version": "3.7.1"
  }
 },
 "nbformat": 4,
 "nbformat_minor": 2
}
